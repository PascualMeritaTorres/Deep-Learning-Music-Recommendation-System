{
 "cells": [
  {
   "cell_type": "code",
   "execution_count": 1,
   "metadata": {},
   "outputs": [],
   "source": [
    "import os\n",
    "from mutagen.mp3 import MP3\n",
    "\n",
    "directory = './mp3-new-download-session/'\n",
    "\n",
    "for filename in os.listdir(directory):\n",
    "    if filename.endswith('.mp3'):\n",
    "        audio = MP3(os.path.join(directory, filename))\n",
    "        if audio.info.length < 29:\n",
    "            print(f\"{filename} is less than 29 seconds long: {audio.info.length}\")"
   ]
  },
  {
   "cell_type": "code",
   "execution_count": 2,
   "metadata": {},
   "outputs": [
    {
     "name": "stdout",
     "output_type": "stream",
     "text": [
      "[]\n"
     ]
    }
   ],
   "source": [
    "#CHECK IF THERE ARE ANY SONGS THAT ARE LESS THAN 29 SECONDS AND REMOVE THEM FROM THE CSV\n",
    "import os\n",
    "import csv\n",
    "from mutagen.mp3 import MP3\n",
    "\n",
    "directory = './mp3-new-download-session/'\n",
    "csv_file = '../data_final/spotify_data_downloaded_songs.csv'\n",
    "\n",
    "# Find and delete mp3 files less than 29 seconds long\n",
    "mp3_files_to_delete = []\n",
    "for filename in os.listdir(directory):\n",
    "    if filename.endswith('.mp3'):\n",
    "        audio = MP3(os.path.join(directory, filename))\n",
    "        if audio.info.length < 29:\n",
    "            print(f\"{filename} is less than 29 seconds long\")\n",
    "            mp3_files_to_delete.append(filename)\n",
    "            os.remove(os.path.join(directory, filename))\n",
    "print(mp3_files_to_delete)\n",
    "\n",
    "# Delete rows from csv file with matching track_uri values\n",
    "with open(csv_file, 'r') as f:\n",
    "    reader = csv.DictReader(f)\n",
    "    rows = list(reader)\n",
    "\n",
    "with open(csv_file, 'w', newline='') as f:\n",
    "    writer = csv.DictWriter(f, fieldnames=rows[0].keys())\n",
    "    writer.writeheader()\n",
    "    for row in rows:\n",
    "        if row['track_uri'] not in mp3_files_to_delete:\n",
    "            writer.writerow(row)"
   ]
  }
 ],
 "metadata": {
  "kernelspec": {
   "display_name": "spotify",
   "language": "python",
   "name": "spotify"
  },
  "language_info": {
   "codemirror_mode": {
    "name": "ipython",
    "version": 3
   },
   "file_extension": ".py",
   "mimetype": "text/x-python",
   "name": "python",
   "nbconvert_exporter": "python",
   "pygments_lexer": "ipython3",
   "version": "3.9.16"
  },
  "orig_nbformat": 4
 },
 "nbformat": 4,
 "nbformat_minor": 2
}

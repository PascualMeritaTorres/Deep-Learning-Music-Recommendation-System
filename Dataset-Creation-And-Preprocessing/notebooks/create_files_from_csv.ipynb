{
 "cells": [
  {
   "cell_type": "code",
   "execution_count": 1,
   "metadata": {},
   "outputs": [
    {
     "name": "stdout",
     "output_type": "stream",
     "text": [
      "How many columns we have in the end:  32\n",
      "[[1 0 0 ... 0 1 0]\n",
      " [1 0 0 ... 0 1 0]\n",
      " [0 0 0 ... 0 1 0]\n",
      " ...\n",
      " [0 0 0 ... 0 1 0]\n",
      " [0 0 0 ... 0 1 0]\n",
      " [0 0 0 ... 1 0 0]]\n"
     ]
    }
   ],
   "source": [
    "#THIS NOTEBOOK CREATES THE TAGS AND THE BINARY ARRAYS FROM A CSV DATASET\n",
    "import numpy as np\n",
    "import pandas as pd\n",
    "\n",
    "# Read in the CSV file\n",
    "csv_file = '../data_final/spotify_data_downloaded_songs.csv'\n",
    "df = pd.read_csv(csv_file, index_col=0)\n",
    "df = df.drop(['artist_name','track_uri','track_name', 'name','track_href','tempo','genres'], axis=1)\n",
    "# Get the column names of the DataFrame\n",
    "column_names = df.columns.tolist()\n",
    "\n",
    "# Convert the column names to a NumPy array\n",
    "np_array = np.array(column_names)\n",
    "print(\"How many columns we have in the end: \",len(np_array))\n",
    "# Save the NumPy array to a file\n",
    "np.save('../data_final/tags.npy', np_array)\n",
    "\n",
    "np_array = df.to_numpy()\n",
    "# Save the NumPy array to a file\n",
    "np.save('../data_final/binary.npy', np_array)\n",
    "print(np_array)\n"
   ]
  },
  {
   "cell_type": "code",
   "execution_count": 4,
   "metadata": {},
   "outputs": [],
   "source": [
    "#THIS NOTEBOOK SPLITS A CSV DATASET INTO TRAIN, TEST AND VALIDATION PARTITIONS, and saves them as numpys\n",
    "import pandas as pd\n",
    "import numpy as np\n",
    "from sklearn.model_selection import train_test_split\n",
    "\n",
    "# Load the CSV file\n",
    "#df = pd.read_csv('../our_data/spotify_data_final.csv', index_col=0, usecols=['track_uri'])\n",
    "csv_file = '../data_final/spotify_data_downloaded_songs.csv'\n",
    "df = pd.read_csv(csv_file, index_col=0)\n",
    "\n",
    "# Reset the index\n",
    "df = df.reset_index(drop=True)\n",
    "\n",
    "\n",
    "# Add a column to the original data to store the original row index\n",
    "df['dataset_index'] = df.index\n",
    "\n",
    "# Split the data into training and testing sets (80% for training, 20% for testing)\n",
    "train_data, test_data = train_test_split(df, test_size=0.2, random_state=42)\n",
    "\n",
    "# Split the training data into training and validation sets (80% for training, 20% for validation)\n",
    "train_data, val_data = train_test_split(train_data, test_size=0.2, random_state=42)\n",
    "\n",
    "train_data = train_data.loc[:, ['dataset_index', 'track_uri']]\n",
    "test_data = test_data.loc[:, ['dataset_index', 'track_uri']]\n",
    "val_data = val_data.loc[:, ['dataset_index', 'track_uri']]\n",
    "\n",
    "# Save the data to new CSV files\n",
    "train_data.to_csv('../data_final/train.csv', index=False)\n",
    "test_data.to_csv('../data_final/test.csv', index=False)\n",
    "val_data.to_csv('../data_final/val.csv', index=False)"
   ]
  }
 ],
 "metadata": {
  "kernelspec": {
   "display_name": "spotify",
   "language": "python",
   "name": "spotify"
  },
  "language_info": {
   "codemirror_mode": {
    "name": "ipython",
    "version": 3
   },
   "file_extension": ".py",
   "mimetype": "text/x-python",
   "name": "python",
   "nbconvert_exporter": "python",
   "pygments_lexer": "ipython3",
   "version": "3.9.16"
  },
  "orig_nbformat": 4,
  "vscode": {
   "interpreter": {
    "hash": "b285d9fc10a3825bef19d96c6011e15c8abd6eb83d39d595e56ebb9b2c1891d0"
   }
  }
 },
 "nbformat": 4,
 "nbformat_minor": 2
}

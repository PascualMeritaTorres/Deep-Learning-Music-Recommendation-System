{
 "cells": [
  {
   "cell_type": "code",
   "execution_count": 3,
   "metadata": {},
   "outputs": [
    {
     "name": "stdout",
     "output_type": "stream",
     "text": [
      "{'display_name': 'Pascu CS', 'external_urls': {'spotify': 'https://open.spotify.com/user/31zq42jmm5zryt3q6rtgw4dej434'}, 'followers': {'href': None, 'total': 0}, 'href': 'https://api.spotify.com/v1/users/31zq42jmm5zryt3q6rtgw4dej434', 'id': '31zq42jmm5zryt3q6rtgw4dej434', 'images': [], 'type': 'user', 'uri': 'spotify:user:31zq42jmm5zryt3q6rtgw4dej434'}\n"
     ]
    },
    {
     "name": "stderr",
     "output_type": "stream",
     "text": [
      "2384it [12:23,  3.21it/s]\n"
     ]
    },
    {
     "ename": "KeyboardInterrupt",
     "evalue": "",
     "output_type": "error",
     "traceback": [
      "\u001b[0;31m---------------------------------------------------------------------------\u001b[0m",
      "\u001b[0;31mKeyboardInterrupt\u001b[0m                         Traceback (most recent call last)",
      "Cell \u001b[0;32mIn[3], line 60\u001b[0m\n\u001b[1;32m     58\u001b[0m         time\u001b[39m.\u001b[39msleep(\u001b[39m31\u001b[39m)\n\u001b[1;32m     59\u001b[0m         retry \u001b[39m-\u001b[39m\u001b[39m=\u001b[39m \u001b[39m1\u001b[39m\n\u001b[0;32m---> 60\u001b[0m time\u001b[39m.\u001b[39;49msleep(\u001b[39m0.15\u001b[39;49m)\n\u001b[1;32m     62\u001b[0m \u001b[39mif\u001b[39;00m retry \u001b[39m==\u001b[39m \u001b[39m0\u001b[39m:\n\u001b[1;32m     63\u001b[0m     \u001b[39mprint\u001b[39m(\u001b[39mf\u001b[39m\u001b[39m\"\u001b[39m\u001b[39mFailed to process \u001b[39m\u001b[39m{\u001b[39;00mspotify_id\u001b[39m}\u001b[39;00m\u001b[39m after 2 attempts. Waiting for 30 seconds and moving to the next song.\u001b[39m\u001b[39m\"\u001b[39m)\n",
      "\u001b[0;31mKeyboardInterrupt\u001b[0m: "
     ]
    }
   ],
   "source": [
    "# THIS DATASET GETS THE MP3 PREVIEWS FROM THE SONGS IN A DATASET, CONNECTING WITH SPOTIFY API\n",
    "import spotipy\n",
    "import pandas as pd\n",
    "from spotipy.oauth2 import SpotifyClientCredentials\n",
    "from spotipy.oauth2 import SpotifyOAuth\n",
    "import os\n",
    "from tqdm import tqdm\n",
    "import requests\n",
    "import time\n",
    "\n",
    "# Read client_id and client_secret from keys.txt\n",
    "with open(\"keys.txt\", \"r\") as keys_file:\n",
    "    client_id = keys_file.readline().strip()\n",
    "    client_secret = keys_file.readline().strip()\n",
    "\n",
    "scope = \"user-library-read app-remote-control playlist-read-private playlist-read-collaborative user-read-currently-playing streaming\"\n",
    "redirect_uri = 'http://localhost:8081/callback'\n",
    "sp = spotipy.Spotify(auth_manager=SpotifyOAuth(scope=scope, client_id=client_id, client_secret=client_secret, redirect_uri=redirect_uri))\n",
    "\n",
    "# Read in the CSV file\n",
    "df = pd.read_csv('../our_data/spotify_data_all_songs.csv')\n",
    "df = df.drop(range(3595))\n",
    "\n",
    "# Retrieve the current user's profile information\n",
    "user = sp.current_user()\n",
    "print(user)\n",
    "\n",
    "# Iterate through each row in the DataFrame\n",
    "for i, element in tqdm(df.iterrows()):\n",
    "    # Get the Spotify ID for the song\n",
    "    spotify_id = element['track_uri']\n",
    "    #print(spotify_id)\n",
    "\n",
    "    retry = 2\n",
    "    while retry > 0:\n",
    "        try:\n",
    "            track_info = sp.track(track_id=spotify_id)\n",
    "            # Get the preview URL for the track\n",
    "            url = track_info['preview_url']\n",
    "            #print(url)\n",
    "\n",
    "            # Download the preview mp3 file\n",
    "            if url is None:\n",
    "                #print('url is None')\n",
    "                break\n",
    "            mp3_file = f\"mp3-new-download-session/{spotify_id}.mp3\"\n",
    "            if os.path.isfile(mp3_file):\n",
    "                #print(f\"{mp3_file} already exists. Skipping...\")\n",
    "                break\n",
    "            os.makedirs('mp3-new-download-session', exist_ok=True)\n",
    "            response = requests.get(url)\n",
    "            with open(mp3_file, \"wb\") as f:\n",
    "                #print(\"Writing mp3\")\n",
    "                f.write(response.content)\n",
    "            break\n",
    "        except Exception as e:\n",
    "            print(f\"Error occurred while processing {spotify_id}: {e}. Retrying in 31 seconds.\")\n",
    "            time.sleep(31)\n",
    "            retry -= 1\n",
    "    time.sleep(0.15)\n",
    "\n",
    "    if retry == 0:\n",
    "        print(f\"Failed to process {spotify_id} after 2 attempts. Waiting for 30 seconds and moving to the next song.\")\n",
    "        time.sleep(30)\n"
   ]
  },
  {
   "cell_type": "code",
   "execution_count": null,
   "metadata": {},
   "outputs": [],
   "source": [
    "#THIS DATASET TESTS WHETHER THE CONNECTION WITH SPOTIFY API IS STABLE, BY TRYING TO RETRIEVE A SONG\n",
    "import spotipy\n",
    "import pandas as pd\n",
    "from spotipy.oauth2 import SpotifyClientCredentials\n",
    "from spotipy.oauth2 import SpotifyOAuth\n",
    "import os\n",
    "from tqdm import tqdm\n",
    "\n",
    "#export SPOTIPY_CLIENT_ID='49c34a44a26441f083f2d2a32ba392b6'\n",
    "#export SPOTIPY_CLIENT_SECRET='b1ff26200da24fd1988c11c02611f7be'\n",
    "\n",
    "scope = \"user-library-read app-remote-control playlist-read-private playlist-read-collaborative user-read-currently-playing streaming\"\n",
    "client_id='d1b007155ce24d64b05128ad6ac457a5'\n",
    "client_secret='ccf1671637af4caf85b8fd30f8ef9e83'\n",
    "redirect_uri='http://localhost:8080/callback'\n",
    "#export SPOTIPY_REDIRECT_URI='http://localhost:8080/callback'\n",
    "sp = spotipy.Spotify(auth_manager=SpotifyOAuth(scope=scope, client_id=client_id, client_secret=client_secret, redirect_uri=redirect_uri))\n",
    "\n",
    "track_info = sp.track('3gJ6zwktnEThGNf81om0tM')\n",
    "print(track_info)\n",
    "\n",
    "# Get the preview URL for the track\n",
    "#preview_url = track_info['preview_url']\n"
   ]
  }
 ],
 "metadata": {
  "kernelspec": {
   "display_name": "spotify",
   "language": "python",
   "name": "spotify"
  },
  "language_info": {
   "codemirror_mode": {
    "name": "ipython",
    "version": 3
   },
   "file_extension": ".py",
   "mimetype": "text/x-python",
   "name": "python",
   "nbconvert_exporter": "python",
   "pygments_lexer": "ipython3",
   "version": "3.9.16"
  },
  "orig_nbformat": 4,
  "vscode": {
   "interpreter": {
    "hash": "b285d9fc10a3825bef19d96c6011e15c8abd6eb83d39d595e56ebb9b2c1891d0"
   }
  }
 },
 "nbformat": 4,
 "nbformat_minor": 2
}

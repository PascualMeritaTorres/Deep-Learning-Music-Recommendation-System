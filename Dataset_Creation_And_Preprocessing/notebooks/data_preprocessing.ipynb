{
 "cells": [
  {
   "cell_type": "code",
   "execution_count": 2,
   "metadata": {},
   "outputs": [
    {
     "name": "stdout",
     "output_type": "stream",
     "text": [
      "The autoreload extension is already loaded. To reload it, use:\n",
      "  %reload_ext autoreload\n",
      "Index(['artist_name', 'track_uri', 'track_name', 'name', 'danceability',\n",
      "       'energy', 'key', 'loudness', 'mode', 'acousticness', 'instrumentalness',\n",
      "       'liveness', 'valence', 'tempo', 'track_href', 'time_signature',\n",
      "       'genres'],\n",
      "      dtype='object')\n"
     ]
    }
   ],
   "source": [
    "#THIS NOTEBOOK GETS THE ORIGINAL DATA, DROPS THE DUPLICATES AND DROPS THE COLUMNS WE DONT WANT\n",
    "import pandas as pd\n",
    "import re\n",
    "%load_ext autoreload\n",
    "%autoreload 2      \n",
    "\n",
    "#Load the raw_data from the repo\n",
    "dataPath = '../our_data/unprocessed_data.csv'\n",
    "df = pd.read_csv(dataPath, index_col=0)\n",
    "df.drop_duplicates(subset='track_uri', inplace=True)\n",
    "df[\"track_uri\"] = df[\"track_uri\"].apply(lambda x: re.findall(r'\\w+$', x)[0])\n",
    "df = df.drop(['Unnamed: 0','pos','artist_uri', 'album_uri','duration_ms_x','type', 'id', 'uri','album_name','speechiness','analysis_url','duration_ms_y','artist_pop','track_pop'], axis=1)\n",
    "df = df.reset_index(drop=True)\n",
    "# Save the data to a new CSV file\n",
    "df.to_csv('../our_data/spotify_data_all_songs.csv')\n",
    "print(df.columns)\n",
    "#df.head()"
   ]
  },
  {
   "cell_type": "code",
   "execution_count": 1,
   "metadata": {},
   "outputs": [],
   "source": [
    "#THIS NOTEBOOK RETRIEVES THE NAMES OF THE MP3 FILES IN A FOLDER AND CREATES A CSV THAT ONLY HAS THOSE FILES\n",
    "import os\n",
    "import pandas as pd\n",
    "\n",
    "# Retrieve the names of the files inside a folder that end with .mp3\n",
    "folder_path = './mp3-new-download-session'\n",
    "mp3_files = [f for f in os.listdir(folder_path) if f.endswith('.mp3')]\n",
    "\n",
    "# Remove the .mp3 from all those files retrieved\n",
    "mp3_files_no_ext = [os.path.splitext(f)[0] for f in mp3_files]\n",
    "\n",
    "# Open a csv file with pandas called spotify.csv\n",
    "spotify_df = pd.read_csv('../our_data/spotify_data_all_songs.csv')\n",
    "\n",
    "# Drop the 'Unnamed: 0' column\n",
    "spotify_df = spotify_df.drop(columns=['Unnamed: 0'])\n",
    "\n",
    "# Get a csv with only the rows whose 'track_uri' column matches with the name of a file retrieved in the previous steps\n",
    "filtered_df = spotify_df[spotify_df['track_uri'].isin(mp3_files_no_ext)].reset_index(drop=True)\n",
    "\n",
    "# Save that file as spotify_test.csv\n",
    "filtered_df.to_csv('../data_final/spotify_data_downloaded_songs.csv')\n"
   ]
  }
 ],
 "metadata": {
  "kernelspec": {
   "display_name": "spotify",
   "language": "python",
   "name": "spotify"
  },
  "language_info": {
   "codemirror_mode": {
    "name": "ipython",
    "version": 3
   },
   "file_extension": ".py",
   "mimetype": "text/x-python",
   "name": "python",
   "nbconvert_exporter": "python",
   "pygments_lexer": "ipython3",
   "version": "3.9.16"
  },
  "orig_nbformat": 4,
  "vscode": {
   "interpreter": {
    "hash": "d4848760b29b77ba2d8fa4b7294d0bcddb3f3e587368ad0df4641a69ab5483db"
   }
  }
 },
 "nbformat": 4,
 "nbformat_minor": 2
}
